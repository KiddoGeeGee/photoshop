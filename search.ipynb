{
 "cells": [
  {
   "cell_type": "code",
   "execution_count": 28,
   "metadata": {},
   "outputs": [],
   "source": [
    "import faiss\n",
    "import numpy as np\n",
    "from langchain.embeddings import HuggingFaceEmbeddings\n",
    "import pymongo\n",
    "\n",
    "\n",
    "def text_embed(query):\n",
    "    embedding_query = embeddings.embed_query(query)\n",
    "    return np.array([embedding_query])\n",
    "\n",
    "\n",
    "class fs:\n",
    "\n",
    "    def __init__(self, raw, top_k=-1):\n",
    "        self.top_k = top_k\n",
    "        self.index = faiss.IndexFlatL2(768)\n",
    "        self.index.add(raw)\n",
    "\n",
    "    def faiss_similar(self, embedding):\n",
    "        top_k = self.index.ntotal\n",
    "        scores, indices = self.index.search(embedding, top_k)\n",
    "        scores = scores[0].tolist()\n",
    "        indices = indices[0].tolist()\n",
    "        self.scores = dict(zip(indices, scores))\n",
    "\n",
    "    \n",
    "    # def tag_similar(self, tags_embedding):\n",
    "    #     tags_embedding\n",
    "\n",
    "query = \"\"\n",
    "embeddings = HuggingFaceEmbeddings()   \n",
    "client = pymongo.MongoClient(\"mongodb://localhost:27017/\")\n",
    "db = client[\"photoshop\"]\n",
    "collection = db[\"pexel_photo\"]\n",
    "\n",
    "\n",
    "raw_data = [(i[\"title\"], i[\"tags\"], i[\"url\"]) for i in collection.find({})]\n",
    "raw_title = embeddings.embed_documents([i[0] for i in raw_data])\n",
    "raw_title = np.array(raw_title)\n",
    "# tag_faiss = fs(raw_tag)\n",
    "title_faiss = fs(raw_title)\n",
    "\n",
    "\n",
    "def search(query, topk=6):\n",
    "    embedding_query = text_embed(query)\n",
    "    # tag_faiss.faiss_similar(embedding_query)\n",
    "    title_faiss.faiss_similar(embedding_query)\n",
    "    res = sorted(title_faiss.scores.items(), key=lambda x: x[1], reverse=True)\n",
    "    top_res = [i[0] for i in res][: topk]\n",
    "    return [raw_data[i][2] for i in top_res]"
   ]
  },
  {
   "cell_type": "code",
   "execution_count": 29,
   "metadata": {},
   "outputs": [],
   "source": [
    "idx = search(\"女人\")"
   ]
  },
  {
   "cell_type": "code",
   "execution_count": 30,
   "metadata": {},
   "outputs": [
    {
     "data": {
      "text/plain": [
       "['https://images.pexels.com/photos/4998009/pexels-photo-4998009.jpeg?cs=srgb&dl=pexels-rachel-claire-4998009.jpg&fm=jpg',\n",
       " 'https://images.pexels.com/photos/2330169/pexels-photo-2330169.jpeg?cs=srgb&dl=pexels-bruno-salvadori-2330169.jpg&fm=jpg',\n",
       " 'https://images.pexels.com/photos/10677607/pexels-photo-10677607.jpeg?cs=srgb&dl=pexels-ron-lach-10677607.jpg&fm=jpg',\n",
       " 'https://images.pexels.com/photos/10910449/pexels-photo-10910449.jpeg?cs=srgb&dl=pexels-%D0%B3%D0%B0%D0%BB%D0%B8%D0%BD%D0%B0-%D0%BB%D0%B0%D1%81%D0%B0%D0%B5%D0%B2%D0%B0-10910449.jpg&fm=jpg',\n",
       " 'https://images.pexels.com/photos/3932961/pexels-photo-3932961.jpeg?cs=srgb&dl=pexels-tatiana-syrikova-3932961.jpg&fm=jpg',\n",
       " 'https://images.pexels.com/photos/3975654/pexels-photo-3975654.jpeg?cs=srgb&dl=pexels-tatiana-syrikova-3975654.jpg&fm=jpg']"
      ]
     },
     "execution_count": 30,
     "metadata": {},
     "output_type": "execute_result"
    }
   ],
   "source": [
    "[raw_data[i][2] for i in idx]"
   ]
  },
  {
   "cell_type": "code",
   "execution_count": null,
   "metadata": {},
   "outputs": [],
   "source": []
  }
 ],
 "metadata": {
  "kernelspec": {
   "display_name": "base",
   "language": "python",
   "name": "python3"
  },
  "language_info": {
   "codemirror_mode": {
    "name": "ipython",
    "version": 3
   },
   "file_extension": ".py",
   "mimetype": "text/x-python",
   "name": "python",
   "nbconvert_exporter": "python",
   "pygments_lexer": "ipython3",
   "version": "3.10.10"
  },
  "orig_nbformat": 4
 },
 "nbformat": 4,
 "nbformat_minor": 2
}
